{
 "cells": [
  {
   "cell_type": "code",
   "execution_count": 1,
   "metadata": {},
   "outputs": [
    {
     "data": {
      "text/html": [
       "<style>.container { width:80% !important; } </style>"
      ],
      "text/plain": [
       "<IPython.core.display.HTML object>"
      ]
     },
     "metadata": {},
     "output_type": "display_data"
    }
   ],
   "source": [
    "# increase the cell width\n",
    "from IPython.core.display import display, HTML\n",
    "display(HTML(\"<style>.container { width:80% !important; } </style>\"))\n",
    "\n",
    "# print table\n",
    "import sys\n",
    "sys.path.insert(-1, '/xdisk/msurdeanu/fanluo/miniconda3/lib/python3.7/site-packages') \n",
    "from prettytable import PrettyTable\n",
    "from textwrap import fill"
   ]
  },
  {
   "cell_type": "markdown",
   "metadata": {},
   "source": [
    "## <a href='https://github.com/recognai/spacy-wordnet' style='text-decoration:none'>spaCy WordNet</a>  <a class=\"tocSkip\">\n",
    "- <a href='https://wordnet.princeton.edu/' style='text-decoration:none'>WordNet</a>\n",
    "    - A large lexical database of English.\n",
    "    - 117 000 unordered sets of cognitive synonyms (synsets).\n",
    "    - Four sub-nets (nouns, verbs, adjectives and adverbs), with a few cross-POS pointers. <br>\n",
    "      For example: observe (verb), observant (adjective) observation, observatory (nouns)\n",
    "  \n",
    "- <a href='https://www.nltk.org/howto/wordnet.html' style='text-decoration:none'>NLTK WordNet Interface</a> <br>\n",
    "- <a href='http://wndomains.fbk.eu/' style='text-decoration:none'>WordNet domains</a>"
   ]
  },
  {
   "cell_type": "code",
   "execution_count": 3,
   "metadata": {},
   "outputs": [],
   "source": [
    "import spacy\n",
    "import sys\n",
    "sys.path.insert(-1, '/xdisk/msurdeanu/fanluo/miniconda3/lib/python3.7/site-packages') \n",
    "import en_core_web_md\n",
    "nlp = en_core_web_md.load()       # load pretrained models \n",
    "\n",
    "#!pip install spacy-wordnet\n",
    "import sys\n",
    "sys.path.insert(-1, '/home/u32/fanluo/.local/lib/python3.5/site-packages') \n",
    "# import nltk\n",
    "# dler = nltk.downloader.Downloader()\n",
    "# dler._update_index()\n",
    "# dler.download(\"omw\")            # omw: Open Multilingual Wordnet \n",
    "from spacy_wordnet.wordnet_annotator import WordnetAnnotator \n",
    "nlp.add_pipe(WordnetAnnotator(nlp.lang), after='tagger')"
   ]
  },
  {
   "cell_type": "markdown",
   "metadata": {},
   "source": [
    "### synsets"
   ]
  },
  {
   "cell_type": "code",
   "execution_count": 17,
   "metadata": {
    "run_control": {
     "marked": false
    },
    "scrolled": false
   },
   "outputs": [
    {
     "name": "stdout",
     "output_type": "stream",
     "text": [
      "+----------------+----------------------------------------------------+--------------------------------+--------------------------------+------------------+--------------------------------+\n",
      "| name           | definition                                         | examples                       | lemmas                         | hypernyms        | hyponyms                       |\n",
      "+----------------+----------------------------------------------------+--------------------------------+--------------------------------+------------------+--------------------------------+\n",
      "| withdraw.v.01  | pull back or move away or backward                 | The enemy withdrew,The limo    | withdraw,retreat,pull_away,dra | travel.v.01      | back_up.v.02,fall_back.v.03,re |\n",
      "|                |                                                    | pulled away from the curb      | w_back,recede,pull_back,retire |                  | trograde.v.03                  |\n",
      "|                |                                                    |                                | ,move_back                     |                  |                                |\n",
      "| retire.v.02    | withdraw from active participation                 | He retired from chess          | retire,withdraw                | discontinue.v.01 | drop_out.v.02                  |\n",
      "| disengage.v.01 | release from something that holds fast, connects,  | I want to disengage myself     | disengage,withdraw             | let_go_of.v.01   | unlock.v.02                    |\n",
      "|                | or entangles                                       | from his influence,disengage   |                                |                  |                                |\n",
      "|                |                                                    | the gears                      |                                |                  |                                |\n",
      "| recall.v.07    | cause to be returned                               | recall the defective auto      | recall,call_in,call_back,withd | take.v.08        | decommission.v.01              |\n",
      "|                |                                                    | tires,The manufacturer tried   | raw                            |                  |                                |\n",
      "|                |                                                    | to call back the spoilt        |                                |                  |                                |\n",
      "|                |                                                    | yoghurt                        |                                |                  |                                |\n",
      "| swallow.v.05   | take back what one has said                        | He swallowed his words         | swallow,take_back,unsay,withdr | disown.v.02      |                                |\n",
      "|                |                                                    |                                | aw                             |                  |                                |\n",
      "| seclude.v.01   | keep away from others                              | He sequestered himself in his  | seclude,sequester,sequestrate, | isolate.v.01     |                                |\n",
      "|                |                                                    | study to write a book          | withdraw                       |                  |                                |\n",
      "| adjourn.v.02   | break from a meeting or gathering                  | We adjourned for lunch,The men | adjourn,withdraw,retire        | close_up.v.01    | prorogue.v.02                  |\n",
      "|                |                                                    | retired to the library         |                                |                  |                                |\n",
      "| bow_out.v.02   | retire gracefully                                  | He bowed out when he realized  | bow_out,withdraw               | retire.v.01      |                                |\n",
      "|                |                                                    | he could no longer handle the  |                                |                  |                                |\n",
      "|                |                                                    | demands of the chairmanship    |                                |                  |                                |\n",
      "| withdraw.v.09  | remove (a commodity) from (a supply source)        | She drew $2,000 from the       | withdraw,draw,take_out,draw_of | remove.v.01      | cheque.v.01,dip.v.05,divert.v. |\n",
      "|                |                                                    | account,The doctors drew       | f                              |                  | 04,divest.v.03,overdraw.v.01,t |\n",
      "|                |                                                    | medical supplies from the      |                                |                  | ap.v.02                        |\n",
      "|                |                                                    | hospital's emergency bank      |                                |                  |                                |\n",
      "| retire.v.08    | lose interest                                      | he retired from life when his  | retire,withdraw                | tire.v.01        | chicken_out.v.01               |\n",
      "|                |                                                    | wife died                      |                                |                  |                                |\n",
      "| retreat.v.04   | make a retreat from an earlier commitment or       | We'll have to crawfish out     | retreat,pull_back,back_out,bac |                  |                                |\n",
      "|                | activity                                           | from meeting with him,He       | k_away,crawfish,crawfish_out,p |                  |                                |\n",
      "|                |                                                    | backed out of his earlier      | ull_in_one's_horns,withdraw    |                  |                                |\n",
      "|                |                                                    | promise,The aggressive         |                                |                  |                                |\n",
      "|                |                                                    | investment company pulled in   |                                |                  |                                |\n",
      "|                |                                                    | its horns                      |                                |                  |                                |\n",
      "| remove.v.01    | remove something concrete, as by lifting, pushing, | remove a threat,remove a       | remove,take,take_away,withdraw |                  | ablate.v.02,amputate.v.01,aspi |\n",
      "|                | or taking off, or remove something abstract        | wrapper,Remove the dirty       |                                |                  | rate.v.01,bail.v.05,bail_out.v |\n",
      "|                |                                                    | dishes from the table,take the |                                |                  | .02,bone.v.02,brush.v.05,bur.v |\n",
      "|                |                                                    | gun from your pocket,This      |                                |                  | .01,burl.v.01,carve_out.v.02,c |\n",
      "|                |                                                    | machine withdraws heat from    |                                |                  | hip_away.v.01,circumcise.v.02, |\n",
      "|                |                                                    | the environment                |                                |                  | clean.v.02,clean.v.07,clean.v. |\n",
      "|                |                                                    |                                |                                |                  | 08,clean.v.10,clear.v.05,clear |\n",
      "|                |                                                    |                                |                                |                  | .v.24,clear_off.v.01,condense. |\n",
      "|                |                                                    |                                |                                |                  | v.03,crumb.v.03,de-            |\n",
      "|                |                                                    |                                |                                |                  | iodinate.v.01,de-ionate.v.01,d |\n",
      "|                |                                                    |                                |                                |                  | ecalcify.v.02,decarbonize.v.01 |\n",
      "|                |                                                    |                                |                                |                  | ,decorticate.v.02,defang.v.01, |\n",
      "|                |                                                    |                                |                                |                  | defuse.v.01,degas.v.01,dehorn. |\n",
      "|                |                                                    |                                |                                |                  | v.01,delete.v.01,delouse.v.01, |\n",
      "|                |                                                    |                                |                                |                  | demineralize.v.01,desorb.v.02, |\n",
      "|                |                                                    |                                |                                |                  | detoxify.v.01,dig.v.01,dischar |\n",
      "|                |                                                    |                                |                                |                  | ge.v.04,disembowel.v.01,dislod |\n",
      "|                |                                                    |                                |                                |                  | ge.v.01,draw.v.05,draw.v.07,dr |\n",
      "|                |                                                    |                                |                                |                  | aw.v.17,draw_off.v.01,dredge.v |\n",
      "|                |                                                    |                                |                                |                  | .03,eliminate.v.07,empty.v.04, |\n",
      "|                |                                                    |                                |                                |                  | enucleate.v.01,enucleate.v.02, |\n",
      "|                |                                                    |                                |                                |                  | epilate.v.01,excavate.v.04,exe |\n",
      "|                |                                                    |                                |                                |                  | nterate.v.01,expectorate.v.01, |\n",
      "|                |                                                    |                                |                                |                  | extirpate.v.03,extract.v.01,fl |\n",
      "|                |                                                    |                                |                                |                  | ick.v.09,gut.v.02,harvest.v.02 |\n",
      "|                |                                                    |                                |                                |                  | ,head.v.09,hull.v.01,husk.v.01 |\n",
      "|                |                                                    |                                |                                |                  | ,hypophysectomize.v.01,knock_o |\n",
      "|                |                                                    |                                |                                |                  | ut.v.03,ladle.v.02,leach.v.01, |\n",
      "|                |                                                    |                                |                                |                  | leach.v.03,lift.v.11,lift.v.22 |\n",
      "|                |                                                    |                                |                                |                  | ,lift.v.23,muck.v.01,pick.v.05 |\n",
      "|                |                                                    |                                |                                |                  | ,pit.v.03,pull.v.17,ream.v.02, |\n",
      "|                |                                                    |                                |                                |                  | resect.v.01,scale.v.06,scalp.v |\n",
      "|                |                                                    |                                |                                |                  | .02,scavenge.v.04,scoop.v.01,s |\n",
      "|                |                                                    |                                |                                |                  | eed.v.08,shed.v.01,shell.v.07, |\n",
      "|                |                                                    |                                |                                |                  | shuck.v.01,shuck.v.02,skim.v.0 |\n",
      "|                |                                                    |                                |                                |                  | 6,spoon.v.01,stem.v.04,string. |\n",
      "|                |                                                    |                                |                                |                  | v.06,strip.v.03,strip.v.08,str |\n",
      "|                |                                                    |                                |                                |                  | ip.v.10,strip.v.11,strip.v.13, |\n",
      "|                |                                                    |                                |                                |                  | take_away.v.01,take_away.v.03, |\n",
      "|                |                                                    |                                |                                |                  | take_off.v.02,take_out.v.06,te |\n",
      "|                |                                                    |                                |                                |                  | ar_away.v.01,tip.v.09,tusk.v.0 |\n",
      "|                |                                                    |                                |                                |                  | 2,unburden.v.02,undock.v.02,un |\n",
      "|                |                                                    |                                |                                |                  | hinge.v.02,unpack.v.01,unsaddl |\n",
      "|                |                                                    |                                |                                |                  | e.v.01,unstring.v.01,unveil.v. |\n",
      "|                |                                                    |                                |                                |                  | 03,wash.v.09,wear_away.v.02,we |\n",
      "|                |                                                    |                                |                                |                  | ed.v.01,winnow.v.04,wipe_off.v |\n",
      "|                |                                                    |                                |                                |                  | .01,withdraw.v.09              |\n",
      "+----------------+----------------------------------------------------+--------------------------------+--------------------------------+------------------+--------------------------------+\n"
     ]
    }
   ],
   "source": [
    "doc = nlp('I would like to withdraw 5,000 euros') \n",
    "token = doc[4]\n",
    "\n",
    "table = PrettyTable()  \n",
    "# hypernyms: more abstract concepts\n",
    "# hyponyms: more specific concepts\n",
    "table.field_names = [\"name\", \"definition\", \"examples\", \"lemmas\", \"hypernyms\", \"hyponyms\"] \n",
    "table.align = \"l\"\n",
    "\n",
    "synsets = token._.wordnet.synsets() \n",
    "for syn in synsets: \n",
    "    table.add_row([syn.name(), fill(syn.definition(), width=50), fill( \",\".join(syn.examples()), width=30), fill(\",\".join(syn.lemma_names()), width=30), \",\".join(hypernym.name() for hypernym in syn.hypernyms()), fill( \",\".join(hypernym.name() for hypernym in syn.hyponyms()), width=30)])\n",
    "print(table) "
   ]
  },
  {
   "cell_type": "markdown",
   "metadata": {},
   "source": [
    "### lemmas"
   ]
  },
  {
   "cell_type": "code",
   "execution_count": 5,
   "metadata": {},
   "outputs": [
    {
     "name": "stdout",
     "output_type": "stream",
     "text": [
      "+---------------------+----------------+----------+\n",
      "| name                | synset         | antonyms |\n",
      "+---------------------+----------------+----------+\n",
      "| withdraw            | withdraw.v.01  |          |\n",
      "| retreat             | withdraw.v.01  |          |\n",
      "| pull_away           | withdraw.v.01  |          |\n",
      "| draw_back           | withdraw.v.01  |          |\n",
      "| recede              | withdraw.v.01  | advance  |\n",
      "| pull_back           | withdraw.v.01  |          |\n",
      "| retire              | withdraw.v.01  |          |\n",
      "| move_back           | withdraw.v.01  |          |\n",
      "| retire              | retire.v.02    |          |\n",
      "| withdraw            | retire.v.02    |          |\n",
      "| disengage           | disengage.v.01 | engage   |\n",
      "| withdraw            | disengage.v.01 |          |\n",
      "| recall              | recall.v.07    |          |\n",
      "| call_in             | recall.v.07    |          |\n",
      "| call_back           | recall.v.07    |          |\n",
      "| withdraw            | recall.v.07    |          |\n",
      "| swallow             | swallow.v.05   |          |\n",
      "| take_back           | swallow.v.05   |          |\n",
      "| unsay               | swallow.v.05   |          |\n",
      "| withdraw            | swallow.v.05   |          |\n",
      "| seclude             | seclude.v.01   |          |\n",
      "| sequester           | seclude.v.01   |          |\n",
      "| sequestrate         | seclude.v.01   |          |\n",
      "| withdraw            | seclude.v.01   |          |\n",
      "| adjourn             | adjourn.v.02   |          |\n",
      "| withdraw            | adjourn.v.02   |          |\n",
      "| retire              | adjourn.v.02   |          |\n",
      "| bow_out             | bow_out.v.02   |          |\n",
      "| withdraw            | bow_out.v.02   |          |\n",
      "| withdraw            | withdraw.v.09  | deposit  |\n",
      "| draw                | withdraw.v.09  |          |\n",
      "| take_out            | withdraw.v.09  |          |\n",
      "| draw_off            | withdraw.v.09  |          |\n",
      "| retire              | retire.v.08    |          |\n",
      "| withdraw            | retire.v.08    |          |\n",
      "| retreat             | retreat.v.04   |          |\n",
      "| pull_back           | retreat.v.04   |          |\n",
      "| back_out            | retreat.v.04   |          |\n",
      "| back_away           | retreat.v.04   |          |\n",
      "| crawfish            | retreat.v.04   |          |\n",
      "| crawfish_out        | retreat.v.04   |          |\n",
      "| pull_in_one's_horns | retreat.v.04   |          |\n",
      "| withdraw            | retreat.v.04   |          |\n",
      "| remove              | remove.v.01    |          |\n",
      "| take                | remove.v.01    |          |\n",
      "| take_away           | remove.v.01    |          |\n",
      "| withdraw            | remove.v.01    |          |\n",
      "+---------------------+----------------+----------+\n"
     ]
    }
   ],
   "source": [
    "table = PrettyTable()  \n",
    "table.field_names = [\"name\", \"synset\", \"antonyms\"] \n",
    "table.align = \"l\"\n",
    "\n",
    "lemmas = token._.wordnet.lemmas() \n",
    "\n",
    "for lemma in lemmas: \n",
    "    table.add_row([lemma.name(), lemma.synset().name(), fill( \",\".join(antonym.name() for antonym in lemma.antonyms()), width=50)])\n",
    "print(table) "
   ]
  },
  {
   "cell_type": "markdown",
   "metadata": {},
   "source": [
    "### domains"
   ]
  },
  {
   "cell_type": "code",
   "execution_count": 10,
   "metadata": {},
   "outputs": [
    {
     "data": {
      "text/plain": [
       "['astronomy',\n",
       " 'school',\n",
       " 'telegraphy',\n",
       " 'industry',\n",
       " 'psychology',\n",
       " 'ethnology',\n",
       " 'ethnology',\n",
       " 'administration',\n",
       " 'school',\n",
       " 'finance',\n",
       " 'economy',\n",
       " 'exchange',\n",
       " 'banking',\n",
       " 'commerce',\n",
       " 'medicine',\n",
       " 'ethnology',\n",
       " 'university',\n",
       " 'school',\n",
       " 'buildings',\n",
       " 'factotum',\n",
       " 'agriculture',\n",
       " 'mechanics',\n",
       " 'gastronomy',\n",
       " 'meteorology',\n",
       " 'physics',\n",
       " 'basketball',\n",
       " 'anatomy',\n",
       " 'skiing',\n",
       " 'nautical',\n",
       " 'engineering',\n",
       " 'racing',\n",
       " 'home',\n",
       " 'drawing',\n",
       " 'dentistry',\n",
       " 'ethnology',\n",
       " 'mathematics',\n",
       " 'furniture',\n",
       " 'animal_husbandry',\n",
       " 'industry',\n",
       " 'economy',\n",
       " 'body_care',\n",
       " 'chemistry',\n",
       " 'medicine',\n",
       " 'surgery',\n",
       " 'vehicles',\n",
       " 'transport',\n",
       " 'atomic_physic',\n",
       " 'archaeology',\n",
       " 'hydraulics',\n",
       " 'oceanography',\n",
       " 'golf',\n",
       " 'sculpture',\n",
       " 'earth',\n",
       " 'applied_science',\n",
       " 'artisanship']"
      ]
     },
     "execution_count": 10,
     "metadata": {},
     "output_type": "execute_result"
    }
   ],
   "source": [
    "token._.wordnet.wordnet_domains()"
   ]
  },
  {
   "cell_type": "code",
   "execution_count": 19,
   "metadata": {},
   "outputs": [
    {
     "data": {
      "text/plain": [
       "['pharmacy',\n",
       " 'chemistry',\n",
       " 'physics',\n",
       " 'applied_science',\n",
       " 'photography',\n",
       " 'number',\n",
       " 'philosophy']"
      ]
     },
     "execution_count": 19,
     "metadata": {},
     "output_type": "execute_result"
    }
   ],
   "source": [
    "doc[0]._.wordnet.wordnet_domains()"
   ]
  },
  {
   "cell_type": "code",
   "execution_count": 11,
   "metadata": {},
   "outputs": [
    {
     "name": "stdout",
     "output_type": "stream",
     "text": [
      "I would (like|care|wish) to (withdraw|draw_off|draw|take_out) 5,000 euros\n"
     ]
    }
   ],
   "source": [
    "economy_domains = ['finance', 'banking']\n",
    "enriched_sentence = []  \n",
    "\n",
    "for token in doc:\n",
    "    # We get those synsets within the desired domains\n",
    "    synsets = token._.wordnet.wordnet_synsets_for_domain(economy_domains)\n",
    "    if not synsets:\n",
    "        enriched_sentence.append(token.text)\n",
    "    else: \n",
    "        lemmas_for_synset = [lemma for s in synsets for lemma in s.lemma_names()] \n",
    "        enriched_sentence.append('({})'.format('|'.join(set(lemmas_for_synset))))\n",
    "\n",
    "# Let's see our enriched sentence\n",
    "print(' '.join(enriched_sentence))"
   ]
  },
  {
   "cell_type": "code",
   "execution_count": null,
   "metadata": {},
   "outputs": [],
   "source": []
  }
 ],
 "metadata": {
  "kernelspec": {
   "display_name": "hotpotqa",
   "language": "python",
   "name": "hotpotqa"
  },
  "language_info": {
   "codemirror_mode": {
    "name": "ipython",
    "version": 3
   },
   "file_extension": ".py",
   "mimetype": "text/x-python",
   "name": "python",
   "nbconvert_exporter": "python",
   "pygments_lexer": "ipython3",
   "version": "3.6.10"
  },
  "toc": {
   "base_numbering": 1,
   "nav_menu": {},
   "number_sections": true,
   "sideBar": true,
   "skip_h1_title": false,
   "title_cell": "Table of Contents",
   "title_sidebar": "Contents",
   "toc_cell": false,
   "toc_position": {
    "height": "calc(100% - 180px)",
    "left": "10px",
    "top": "150px",
    "width": "169px"
   },
   "toc_section_display": true,
   "toc_window_display": true
  },
  "varInspector": {
   "cols": {
    "lenName": 16,
    "lenType": 16,
    "lenVar": 40
   },
   "kernels_config": {
    "python": {
     "delete_cmd_postfix": "",
     "delete_cmd_prefix": "del ",
     "library": "var_list.py",
     "varRefreshCmd": "print(var_dic_list())"
    },
    "r": {
     "delete_cmd_postfix": ") ",
     "delete_cmd_prefix": "rm(",
     "library": "var_list.r",
     "varRefreshCmd": "cat(var_dic_list()) "
    }
   },
   "types_to_exclude": [
    "module",
    "function",
    "builtin_function_or_method",
    "instance",
    "_Feature"
   ],
   "window_display": false
  }
 },
 "nbformat": 4,
 "nbformat_minor": 2
}
