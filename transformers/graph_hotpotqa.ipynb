{
 "cells": [
  {
   "cell_type": "code",
   "execution_count": 1,
   "metadata": {},
   "outputs": [
    {
     "data": {
      "text/html": [
       "<style>.container { width:80% !important; } </style>"
      ],
      "text/plain": [
       "<IPython.core.display.HTML object>"
      ]
     },
     "metadata": {},
     "output_type": "display_data"
    }
   ],
   "source": [
    "# increase the cell width \n",
    "from IPython.core.display import display, HTML\n",
    "display(HTML(\"<style>.container { width:80% !important; } </style>\"))   "
   ]
  },
  {
   "cell_type": "markdown",
   "metadata": {},
   "source": [
    "### Convert hotpotqa to squard format"
   ]
  },
  {
   "cell_type": "markdown",
   "metadata": {},
   "source": [
    "According to Longformer: use the following input format with special tokens:  “[CLS] [q] question [/q] [p] sent1,1 [s] sent1,2 [s] ... [p] sent2,1 [s] sent2,2 [s] ...” \n",
    "where [s] and [p] are special tokens representing sentences and paragraphs. The special tokens were added to the RoBERTa vocabulary and randomly initialized before task finetuning."
   ]
  },
  {
   "cell_type": "code",
   "execution_count": 2,
   "metadata": {},
   "outputs": [],
   "source": [
    "import tqdm \n",
    "from datetime import datetime \n",
    "import pytz \n",
    "timeZ_Az = pytz.timezone('US/Mountain') \n",
    "\n",
    "QUESTION_START = '[question]'\n",
    "QUESTION_END = '[/question]' \n",
    "TITLE_START = '<t> , '  # indicating the start of the title of a paragraph (also used for loss over paragraphs)\n",
    "TITLE_END = ', </t> . '   # indicating the end of the title of a paragraph, add , to avoid tilte to be recognized as part of the first entity in the sentence after\n",
    "SENT_MARKER_END = ', </sent> , '  # indicating the end of the title of a sentence (used for loss over sentences)\n",
    "PAR = '[/par]'  # used for indicating end of the regular context and beginning of `yes/no/null` answers\n",
    "EXTRA_ANSWERS = \" yes no null </s>\""
   ]
  },
  {
   "cell_type": "code",
   "execution_count": 3,
   "metadata": {},
   "outputs": [
    {
     "name": "stdout",
     "output_type": "stream",
     "text": [
      "2.3.5\n"
     ]
    }
   ],
   "source": [
    "import sys\n",
    "sys.path.insert(-1, '/xdisk/msurdeanu/fanluo/miniconda3/lib/python3.7/site-packages')\n",
    "sys.path.insert(-1, '/xdisk/msurdeanu/fanluo/miniconda3/lib/python3.8/site-packages')\n",
    " \n",
    "from prettytable import PrettyTable\n",
    "import spacy   \n",
    "print(spacy.__version__)\n",
    "import en_core_web_lg          \n",
    "nlp1 = en_core_web_lg.load() \n",
    "nlp2 = en_core_web_lg.load() \n",
    "\n",
    "from spacy.symbols import ORTH, LEMMA, POS\n",
    "nlp1.tokenizer.add_special_case('</sent>', [{ ORTH: '</sent>', LEMMA: '</sent>', POS: 'SYM'}]) \n",
    "nlp1.tokenizer.add_special_case('</t>', [{ORTH: '</t>', LEMMA: '</t>', POS: 'SYM'}]) \n",
    "nlp1.tokenizer.add_special_case('<t>', [{ORTH: '<t>', LEMMA: '<t>', POS: 'SYM'}])  \n",
    "import neuralcoref\n",
    "neuralcoref.add_to_pipe(nlp1)\n",
    "\n",
    "\n",
    "#!python -m pip install pytextrank\n",
    "# Fan: make 3 changes in pytextrank.py \n",
    "# 1. phrase_text = ' '.join(key[0] for key in phrase_key) \n",
    "#  p.text are the joint of lemma tokens with pos_ in kept_pos, and maintain the order when join    \n",
    "# 2. add argumrnt 'chunk_type' to only consider named entity ('ner') or noun_chunks ('noun'), besides the default ('both') \n",
    "# 3. replace token.lemma_ with token.lemma_.lower().strip()\n",
    "import pytextrank\n",
    "tr = pytextrank.TextRank(pos_kept=[\"ADJ\", \"NOUN\", \"PROPN\", \"VERB\", \"NUM\", \"ADV\"], chunk_type='both')  \n",
    "nlp2.add_pipe(tr.PipelineComponent, name='textrank', last=True)\n",
    "\n",
    "\n",
    "\n",
    "%matplotlib inline\n",
    "import matplotlib.pyplot as plt\n",
    "from matplotlib.cbook import flatten\n",
    "\n",
    "#!conda install networkx --yes\n",
    "import networkx as nx\n",
    "import itertools "
   ]
  },
  {
   "cell_type": "markdown",
   "metadata": {},
   "source": [
    "### Create phrases graph  "
   ]
  },
  {
   "cell_type": "code",
   "execution_count": 4,
   "metadata": {},
   "outputs": [],
   "source": [
    "def create_para_graph(paras_phrases):\n",
    "    G = nx.Graph()    \n",
    "    top_para_phrases = []                     # node of the first (top ranked) phrases from each para \n",
    "    for para_phrases in paras_phrases:        # each para\n",
    "        top_sent_phrases = []                 # node of the first (top ranked) phrases from each sent \n",
    "        for sent_phrases in para_phrases:     # each sent\n",
    "            \n",
    "            # complete graph for each sent\n",
    "            sent_G = nx.Graph()\n",
    "            sent_G.add_nodes_from([phrase[0] for phrase in sent_phrases])  \n",
    "            sent_G.add_edges_from(itertools.combinations([phrase[0] for phrase in sent_phrases], 2)) \n",
    "            G = nx.compose(G, sent_G)         # union of the node sets and edge sets\n",
    "            \n",
    "            \n",
    "            # add an edge between the top ranked phrases from each sent to bridge sents\n",
    "            if(sent_phrases):\n",
    "                for top_sent_phrase in top_sent_phrases:\n",
    "                    G.add_edge(top_sent_phrase[0], sent_phrases[0][0])  # sent_phrases[0] is the top ranked phrase of the sentence\n",
    "                top_sent_phrases.append(sent_phrases[0])     \n",
    "            \n",
    "        top_sent_phrases = sorted(top_sent_phrases, key=lambda x: x[1], reverse=True)      # x[0]: phrase text,  x[1]: phrase rank\n",
    "        \n",
    "        \n",
    "        # add an edge between the top ranked phrases from each para to bridge paras\n",
    "        if(top_sent_phrases):\n",
    "            for top_para_phrase in top_para_phrases: \n",
    "                G.add_edge(top_para_phrase[0], top_sent_phrases[0][0])  # top_sent_phrases[0] is the top ranked phrase of current para\n",
    "            top_para_phrases.append(top_sent_phrases[0])\n",
    "     \n",
    "    # Draw\n",
    "#     pos = nx.spring_layout(G)\n",
    "#     plt.figure(figsize=(20,10))\n",
    "#     nx.draw(G, pos, with_labels=True, edge_color='black', width=1, linewidths=1,\n",
    "#             node_size=500, node_color='orange', alpha=0.9                           \n",
    "#             )     \n",
    "    return G\n"
   ]
  },
  {
   "cell_type": "markdown",
   "metadata": {},
   "source": [
    "### Compute the reduced context with phrase graph"
   ]
  },
  {
   "cell_type": "code",
   "execution_count": 5,
   "metadata": {},
   "outputs": [],
   "source": [
    "import re\n",
    "import string\n",
    "\n",
    "from networkx.algorithms import approximation as approx\n",
    "def reduce_context_with_phares_graph(example, q_id, gold_paras_only=False):\n",
    "    \"\"\"function to compute reduced context with phrase graph.\n",
    "\n",
    "    Args:\n",
    "        json_dict: The original data load from hotpotqa file.\n",
    "        gold_paras_only: when is true, only use the 2 paragraphs that contain the gold supporting facts; if false, use all the 10 paragraphs\n",
    " \n",
    "    Returns:\n",
    "        a new file save additional phrase-related info and the reduced context\n",
    "\n",
    "    \"\"\"\n",
    "    noun_tags = ['NN', 'NNS', 'NNP', 'NNPS']\n",
    "    new_dict = {\"data\": []} \n",
    "    common_phrases_num_le2 = 0\n",
    "    extended = 0\n",
    "    answer_in_reduced_context = 0\n",
    "    answer_in_context = 0\n",
    "    reduced_context_ratios = []\n",
    "\n",
    "    raw_contexts = example[\"context\"]\n",
    "#         if gold_paras_only: \n",
    "#        raw_contexts = [lst for lst in raw_contexts if lst[0] in support_para]    \n",
    "    paras_phrases = []                                                # phrases of all 10 paragraghs\n",
    "    for i, para_context in enumerate(raw_contexts):                   # each para\n",
    "\n",
    "        title = _normalize_text(para_context[0])          \n",
    "        sents = [_normalize_text(sent) for sent in para_context[1]]\n",
    "        num_sents_before_coref_resolved = len(sents)\n",
    "        print(\"numbe of sents before coref: \", num_sents_before_coref_resolved)\n",
    "        sents_joint =  (' ' + SENT_MARKER_END +' ').join(sents)\n",
    "        print(\"sents: \", sents_joint) \n",
    "        sents_doc = nlp1(sents_joint)\n",
    "        print(\"resolved_sents: \", sents_doc._.coref_resolved) \n",
    "        sents_coref_resolved = sents_doc._.coref_resolved.split(SENT_MARKER_END)\n",
    "        num_sents_after_coref_resolved = len(sents_coref_resolved)\n",
    "        print(\"numbe of sents after coref: \", num_sents_after_coref_resolved)\n",
    "        \n",
    "        if(num_sents_before_coref_resolved == num_sents_after_coref_resolved):\n",
    "            sent_docs = list(nlp2.pipe([title] + sents_coref_resolved))       \n",
    "        else:\n",
    "            sent_docs = list(nlp2.pipe([title] + sents))\n",
    " \n",
    "        para_phrases = []                                        \n",
    "        for sent_doc in sent_docs:                                      # each sent in a para\n",
    "            sent_phrases = [(p.text, p.rank) for p in sent_doc._.phrases if(p.text != '')]  # phrases from each sentence  \n",
    "            para_phrases.append(sent_phrases)                           # para_phrases[0] are phrases from  title\n",
    "        paras_phrases.append(para_phrases)    \n",
    "\n",
    "#     contexts = [TITLE_START + ' ' + lst[0]  + ' ' + TITLE_END + ' ' + (' ' + SENT_MARKER_END +' ').join(lst[1]) + ' ' + SENT_MARKER_END for lst in raw_contexts]  \n",
    "#     context = \" \".join(contexts)                                                     \n",
    "\n",
    "    answer = _normalize_text(example[\"answer\"])  \n",
    "#     if (answer != '' and len(list(re.finditer(answer, context, re.IGNORECASE))) > 0):\n",
    "#         answer_in_context += 1\n",
    "\n",
    "    paras_phrases_graph = create_para_graph(paras_phrases)\n",
    "\n",
    "    question = _normalize_text(example[\"question\"])\n",
    "    question_doc = nlp2(question)\n",
    "    question_phrases = [(p.text, p.rank) for p in question_doc._.phrases if(p.text != '')] \n",
    "    question_phrases_text = [p[0] for p in question_phrases]\n",
    "\n",
    "    all_sent_phrases_text =  list(flatten(paras_phrases))[::2]        # every other element is text, others are rank. \n",
    "    common_phrases = list(set(all_sent_phrases_text).intersection(question_phrases_text)) \n",
    "    question_only_phrase = list(set(question_phrases_text).difference(common_phrases)) \n",
    "\n",
    "    example[\"question_phrases_text\"] = question_phrases_text\n",
    "    example[\"question_only_phrase\"] = question_only_phrase\n",
    "\n",
    "    if(len(common_phrases) > 1):\n",
    "        common_phrases_num_le2 += 1\n",
    "        path_phrases = list(approx.steinertree.steiner_tree(paras_phrases_graph, common_phrases).nodes)  # to find the shortest path cover all common_phrases  \n",
    "        extended_phrases = path_phrases + question_only_phrase  \n",
    "        if(len(extended_phrases) > len(question_phrases_text)):\n",
    "            extended += 1\n",
    "    else: #  0 or 1 common phrases\n",
    "        path_phrases = common_phrases             \n",
    "        extended_phrases = question_phrases_text\n",
    "\n",
    "    print(\"question: \", question)\n",
    "    print(\"question_phrases: \", question_phrases)\n",
    "    print(\"common_phrases: \", common_phrases)\n",
    "    print(\"extended_phrases: \", extended_phrases)\n",
    "\n",
    "\n",
    "    example[\"question_phrases\"] = question_phrases\n",
    "    example[\"paras_phrases\"] = paras_phrases\n",
    "#     example[\"all_sent_phrases_text\"] = all_sent_phrases_text\n",
    "    example[\"common_phrases\"] = common_phrases\n",
    "    example[\"path_phrases\"] = path_phrases\n",
    "    example[\"extended_phrases\"] = extended_phrases \n",
    "\n",
    "#        \n",
    "#         print(\"\\n\\n\") \n",
    "#         print(\"question_phrases: \", question_phrases)    \n",
    "    print(\"paras_phrases\")\n",
    "    for paras_phrase in paras_phrases:\n",
    "    #     print(paras_phrase )\n",
    "        print(list(flatten(paras_phrase))[::2])\n",
    "    #     print(\"\\n\") \n",
    "    \n",
    "#         print(\"\\n\\n\") \n",
    "        \n",
    "\n",
    "    raw_reduced_contexts = []     # sentences contain one of the extended_phrases\n",
    "    number_sentences = 0\n",
    "    number_reduced_sentences = 0 \n",
    "    kept_para_sent = []\n",
    "    for para_id, (para_title, para_lines) in enumerate(raw_contexts):\n",
    "# #             print(\"para_id, para_title, para_lines\",para_id, para_title, para_lines)\n",
    "\n",
    "        number_sentences += len(para_lines)\n",
    "        reduced_para = []\n",
    "        kept_sent = []\n",
    "        for sent_id, sent in enumerate(para_lines):\n",
    "\n",
    "            for phrase in extended_phrases:\n",
    "                # every other element is text, others are rank \n",
    "                if(phrase in list(flatten(paras_phrases[para_id][sent_id+1]))[::2]):  # paras_phrases[para_id][0] are phrases from the title\n",
    "                    reduced_para.append(sent)\n",
    "                    number_reduced_sentences += 1 \n",
    "                    kept_sent.append(sent_id)\n",
    "                    break     # if current sentence contains one of the extended_phrases, this sentence is added to reduced sentence, and no need to continue checking whether it contains other phrases\n",
    "        if(len(reduced_para) > 0):\n",
    "            raw_reduced_contexts.append([para_title, reduced_para])\n",
    "            kept_para_sent.append(kept_sent)\n",
    "        else:\n",
    "            for phrase in extended_phrases:\n",
    "                if(phrase in list(flatten(paras_phrases[para_id][0]))[::2]):   # only tilte contains one of the extended_phrases\n",
    "                    raw_reduced_contexts.append([para_title, []])\n",
    "                    kept_para_sent.append(kept_sent)\n",
    "                    break\n",
    "                     \n",
    "      \n",
    "    assert number_reduced_sentences <= number_sentences                    \n",
    "    reduced_context_ratios.append(number_reduced_sentences / number_sentences)    \n",
    " \n",
    "    \n",
    "    reduced_contexts = [TITLE_START + ' ' + lst[0]  + ' ' + TITLE_END + ' ' + (' ' + SENT_MARKER_END +' ').join(lst[1]) + ' ' + SENT_MARKER_END for lst in raw_reduced_contexts]    \n",
    "    reduced_context_str = \" \".join(reduced_contexts)  \n",
    "\n",
    "    if (answer != '' and len(list(re.finditer(answer, reduced_context_str, re.IGNORECASE))) > 0):\n",
    "        answer_in_reduced_context += 1\n",
    "\n",
    "    supporting_facts = []\n",
    "    support_para = set(\n",
    "        para_title for para_title, _ in example[\"supporting_facts\"]\n",
    "    )\n",
    "    sp_set = set(list(map(tuple, example['supporting_facts'])))                       # a list of (title, sent_id in orignal context) \n",
    "    for i, para_reduced_context in enumerate(raw_reduced_contexts):                   # each para\n",
    "        if(para_reduced_context[0] in support_para):\n",
    "            for sent_id, orig_sent_id in enumerate(kept_para_sent[i]):\n",
    "                if( (para_reduced_context[0], orig_sent_id) in sp_set ):\n",
    "                    supporting_facts.append([para_reduced_context[0], sent_id])\n",
    "\n",
    "    example['reduced_context'] = raw_reduced_contexts\n",
    "    example['supporting_facts'] = supporting_facts\n",
    "    example['kept_para_sent'] = kept_para_sent\n",
    "\n",
    "    return example"
   ]
  },
  {
   "cell_type": "code",
   "execution_count": 6,
   "metadata": {},
   "outputs": [],
   "source": [
    "def _normalize_text(s):\n",
    "\n",
    "    def remove_articles(text):\n",
    "        return re.sub(r'\\b(a|an|the)\\b', ' ', text)\n",
    "\n",
    "    def white_space_fix(text):\n",
    "        return ' '.join(text.split())\n",
    "\n",
    "    def remove_punc(text):\n",
    "        exclude = set(string.punctuation)\n",
    "        return ''.join(ch for ch in text if ch not in exclude)\n",
    "\n",
    "    def lower(text):\n",
    "        return text.lower()\n",
    "\n",
    "    return white_space_fix(remove_articles(remove_punc(lower(s))))"
   ]
  },
  {
   "cell_type": "code",
   "execution_count": 7,
   "metadata": {
    "scrolled": false
   },
   "outputs": [],
   "source": [
    "import os\n",
    "os.chdir('/xdisk/msurdeanu/fanluo/hotpotQA/')\n",
    "#!cat /xdisk/msurdeanu/fanluo/hotpotQA/hotpot_train_v1.1.json | ../jq-linux64 -c '.[2:16]' > small.json\n",
    "#!cat /xdisk/msurdeanu/fanluo/hotpotQA/hotpot_train_v1.1.json | ../jq-linux64 -c '.[380:400]' > small_dev.json\n",
    "#!cat /xdisk/msurdeanu/fanluo/hotpotQA/hotpot_train_v1.1.json | ../jq-linux64 -c '.[31:50]' > sample.json"
   ]
  },
  {
   "cell_type": "code",
   "execution_count": 8,
   "metadata": {
    "code_folding": []
   },
   "outputs": [],
   "source": [
    "# debug: check args\n",
    "import shlex\n",
    "argString ='--datafile /xdisk/msurdeanu/fanluo/hotpotQA/Data/hotpot_dev_distractor_v1.json --qid 5a75e05c55429976ec32bc5f'  # --outfile /xdisk/msurdeanu/fanluo/hotpotQA/small_out.json'\n",
    "shlex.split(argString)\n",
    "\n",
    "import json\n",
    "import argparse \n",
    "def main():\n",
    "    parser = argparse.ArgumentParser()\n",
    "    parser.add_argument(\"--datafile\", type=str, default='small.json')\n",
    "    parser.add_argument(\"--qid\", type=str, default='5ae73acb5542991e8301cc07')\n",
    "#    parser.add_argument(\"--outfile\", type=str, default='small_out.json')\n",
    "    args = parser.parse_args(shlex.split(argString)) \n",
    "     \n",
    "    print(args.datafile)\n",
    "    print(args.qid)\n",
    "    question_json = !cat $args.datafile | /xdisk/msurdeanu/fanluo/helper/jq-linux64 -c --arg key $args.qid '.[] | select(._id | contains($key))'  # --arg key $args.qid is used to pass args.qid as a variable to jq\n",
    "    \n",
    "#     print(question_json)\n",
    "    question = json.loads(question_json[0])    # Convert from JSON string to dict\n",
    "    reduce_context_with_phares_graph(question, args.qid)"
   ]
  },
  {
   "cell_type": "code",
   "execution_count": 9,
   "metadata": {
    "code_folding": []
   },
   "outputs": [
    {
     "name": "stdout",
     "output_type": "stream",
     "text": [
      "/xdisk/msurdeanu/fanluo/hotpotQA/Data/hotpot_dev_distractor_v1.json\n",
      "5a75e05c55429976ec32bc5f\n",
      "numbe of sents before coref:  5\n",
      "sents:  fishing lake is lake in canadian province of saskatchewan , </sent> ,  lake is located between highway 5 and highway 16 22 km north of town of foam lake saskatchewan and 24 km east of town of wadena saskatchewan , </sent> ,  lake does not have effective outlet channel and so is prone to flooding , </sent> ,  record floods in 2007 resulted in plan by government of saskatchewan to lower level of lake by digging drainage channel , </sent> ,  fishing lake first nation opposed this plan and instead flood control berms were constructed\n",
      "resolved_sents:  fishing lake is lake in canadian province of saskatchewan , </sent> ,  lake is located between highway 5 and highway 16 22 km north of town of foam lake saskatchewan and 24 km east of town of wadena saskatchewan , </sent> ,  lake does not have effective outlet channel and so is prone to flooding , </sent> ,  record floods in 2007 resulted in plan by government of saskatchewan to lower level of lake by digging drainage channel , </sent> ,  fishing lake first nation opposed this plan and instead flood control berms were constructed\n",
      "numbe of sents after coref:  5\n",
      "numbe of sents before coref:  6\n",
      "sents:  osage state fishing lake is located in northern osage county kansas , </sent> ,  it is mile east of us 75 , </sent> ,  scranton kansas is to lakes northwest and overbrook kansas is to northeast , </sent> ,  osage lake is freshwater manmade lake constructed in 1955 , </sent> ,  it has surface area of 140 acres parkland in which lake is contained has 366 acreas of land mostly tall grass prairie with numerous wooded areas , </sent> ,  lake is owned by state of kansas\n",
      "resolved_sents:  osage state fishing lake is located in northern osage county kansas , </sent> ,  osage state fishing lake is mile east of us 75 , </sent> ,  northern osage county kansas kansas is to lakes northwest and overbrook kansas is to northeast , </sent> ,  osage lake is freshwater manmade lake constructed in 1955 , </sent> ,  </sent> ,  osage lake has surface area of 140 acres parkland in which osage state fishing lake is contained has 366 acreas of land mostly tall grass prairie with numerous wooded areas , </sent> ,  osage lake is owned by state of kansas\n",
      "numbe of sents after coref:  6\n",
      "numbe of sents before coref:  3\n",
      "sents:  brown state fishing lake sometimes also known as brown state fishing lake and wildlife area is protected area in brown county kansas in united states , </sent> ,  lake is 62 acres 025 km² in area and up to 13 feet 4 m deep , </sent> ,  area was formerly known as brown county state park and is 8 miles 13 km east of hiawatha kansas\n",
      "resolved_sents:  brown state fishing lake sometimes also known as brown state fishing lake and wildlife area is protected area in brown county kansas in united states , </sent> ,  lake is 62 acres 025 km² in area and up brown state fishing lake and wildlife area was formerly known as brown county state park and is 8 miles 13 km east of hiawatha kansas\n",
      "numbe of sents after coref:  2\n",
      "numbe of sents before coref:  9\n",
      "sents:  neosho state fishing lake also known as lake mckinley is located in state of kansas , </sent> ,  located 5 mi north on highway 59 and 4 mi east on 40th rd from city of parsons kansas usa , </sent> ,  construction of this lake was completed in 1927 , </sent> ,  lake covers 92 acre of water , </sent> ,  there are 124 public use acres surrounding lake , </sent> ,  fishing camping and picnicking are popular activities , </sent> ,  park has shelter house fishing piers picnic tables barbecue grills vault toilets and water hydrant , </sent> ,  below lake mckinley dam is catch and release youth fishing pond for anglers age 15 and under when with accompanying adult , </sent> ,  lake is operated by kansas department of wildlife and parks\n",
      "resolved_sents:  neosho state fishing lake also known as lake mckinley is located in state of kansas , </sent> ,  located 5 mi north on highway 59 and 4 mi east on 40th rd from city of parsons kansas usa , </sent> ,  construction of neosho state fishing lake also known as lake mckinley was completed in 1927 , </sent> ,  lake covers 92 acre of water , </sent> ,  there are 124 public use acres surrounding lake , </sent> ,  fishing camping and picnicking are popular activities , </sent> ,  park has shelter house fishing piers picnic tables barbecue grills vault toilets and water hydrant , </sent> ,  below lake mckinley dam is catch and release youth fishing pond for anglers age 15 and under when with accompanying adult , </sent> ,  lake is operated by kansas department of wildlife and parks\n",
      "numbe of sents after coref:  9\n",
      "numbe of sents before coref:  3\n",
      "sents:  narrow hills provincial park is provincial park in saskatchewan canada , </sent> ,  it contains series of recreational facilities and variety of lakes within its boundaries , </sent> ,  these include gem lakes lower fishing lake upper fishing lake and others\n",
      "resolved_sents:  narrow hills provincial park is provincial park in saskatchewan canada , </sent> ,  narrow hills provincial park contains series of recreational facilities and variety of lakes within narrow hills provincial park boundaries , </sent> ,  these include gem lakes lower fishing lake upper fishing lake and others\n",
      "numbe of sents after coref:  3\n",
      "numbe of sents before coref:  8\n",
      "sents:  shawnee state fishing lake is approximately eight miles northwest of topeka kansas and is in northern shawnee county kansas , </sent> ,  this lake is sometimes confused with lake shawnee on east side of topeka , </sent> ,  it is 135 acre surface area lake with maximum depth of 25 ft , </sent> ,  this is manmade freshwater lake which was constructed in late 1960s , </sent> ,  lake is widest at dam which is at south end of lake , </sent> ,  it can be reached by number of roads , </sent> ,  only asphalted road reaching it is on southeast corner , </sent> ,  to north is 94th street and on west side is humphrey road\n",
      "resolved_sents:  shawnee state fishing lake is approximately eight miles northwest of topeka kansas and is in northern shawnee county kansas , </sent> ,  shawnee state fishing lake is sometimes confused with lake shawnee on east side of topeka , </sent> ,  shawnee state fishing lake is 135 acre surface area lake with maximum depth of 25 ft , </sent> ,  this is manmade freshwater lake which was constructed in late 1960s , </sent> ,  lake is widest at dam which is at south end of lake , </sent> ,  it can be reached by number of roads , </sent> ,  only asphalted road reaching it is on southeast corner , </sent> ,  to north is 94th street and on west side is humphrey road\n",
      "numbe of sents after coref:  8\n",
      "numbe of sents before coref:  7\n",
      "sents:  higgins lake is small unincorporated community along southern and western shores of higgins lake recreational and fishing lake in roscommon county in us state of michigan , </sent> ,  higgins lake is name of post office for area with zip code 48627 , </sent> ,  this zip code includes several other small communities and locales along shores of lake including moving counterclockwise around lake hillcrest lyon manor detroit park cook corner sharps corner almeda beach oak grove ritz corner pine bluffs and cottage grove , </sent> ,  since all have higgins lake as postal address they are often all considered as part of higgins lake community , </sent> ,  lake is situated on boundary between lyon township on west and gerrish township on east , </sent> ,  us 127 passes on west side of lake while i75 and m18 both pass few miles to east , </sent> ,  houghton lake is just few miles to south\n",
      "resolved_sents:  higgins lake is small unincorporated community along southern and western shores of higgins higgins lake recreational and fishing lake in roscommon county in us state of michigan , </sent> ,  higgins lake is name of post office for area with zip code 48627 , </sent> ,  this zip code includes several other small communities and locales along shores of higgins lake including moving counterclockwise around lake hillcrest lyon manor detroit park cook corner sharps corner almeda beach oak grove ritz corner pine bluffs and cottage grove , </sent> ,  since all have higgins lake as postal address postal address are often all considered as part of higgins lake community , </sent> ,  lake is situated on boundary between lyon township on west and gerrish township on east , </sent> ,  us 127 passes on west side of higgins lake while i75 and m18 both pass few miles to east , </sent> ,  higgins lake is just few miles to south\n",
      "numbe of sents after coref:  7\n"
     ]
    },
    {
     "name": "stdout",
     "output_type": "stream",
     "text": [
      "numbe of sents before coref:  10\n",
      "sents:  higgins lake is large recreational and fishing lake in roscommon county in us state of michigan , </sent> ,  9900 acre 40 km² lake is known for its deep clear waters and is 10th largest in michigan with shoreline of 21 mi , </sent> ,  it is named after sylvester higgins first chief of topographical department of michigan geological survey , </sent> ,  it has maximum width of 4 mi and length of 7 mi with maximum depth of 135 ft , </sent> ,  mean depth is 44 ft and lake contains almost 20 billion cubic feet 570 million m³ of water , </sent> ,  its retention time is about 125 years , </sent> ,  lakes watershed covers 19000 acres 77 km² , </sent> ,  twinlobed lake receives half of its water from submerged springs six percent from incoming streams and remainder from direct rainfall and runoff , </sent> ,  it drains into marl lake by cut river which runs into houghton lake and eventually to lake michigan , </sent> ,  mile north of lake water flows into lake huron watershed\n",
      "resolved_sents:  higgins lake is large recreational and fishing lake in roscommon county in us state of michigan , </sent> ,  9900 acre 40 km² lake is known for higgins lake deep clear waters and is 10th largest in michigan with shoreline of 21 mi , </sent> ,  higgins lake is named after sylvester higgins first chief of topographical department of michigan geological survey , </sent> ,  higgins lake has maximum width of 4 mi and length of 7 mi with maximum depth of 135 ft , </sent> ,  mean depth is 44 ft and lake contains almost 20 billion cubic feet 570 million m³ of water , </sent> ,  its retention time is about 125 years , </sent> ,  lakes watershed covers 19000 acres 77 km² , </sent> ,  twinlobed lake receives half of its water from submerged springs six percent from incoming streams and remainder from direct rainfall and runoff , </sent> ,  its drains into km² lake by cut river which runs into km² lake and eventually to lake michigan , </sent> ,  mile north of lake water flows into lake huron watershed\n",
      "numbe of sents after coref:  10\n",
      "numbe of sents before coref:  11\n",
      "sents:  commanda lake or lake commanda is lake in central ontario canada , </sent> ,  located on border between patterson township and pringle township in almaguin highlands region of district of parry sound it is fed by gee creek commanda creek and beaudry creek and is drained by restoule river , </sent> ,  lake is shaped like number 3 its middle spur is called deep bay , </sent> ,  lake is home to one permanent island located off point in its east , </sent> ,  this is mud bottom lake and its water is tea coloured , </sent> ,  on north shore of lake is community of restoule but cottages line many of shore lines , </sent> ,  lots of crown land also surrounds lake shore making it very peaceful lake for people of all ages to enjoy , </sent> ,  this lake has one public boat launch towards southern end of lake accessible on commanda lake road , </sent> ,  lake is located at altitude of 222 m 729 ft above sea level , </sent> ,  lake is home to northern pike walleye smallmouth bass and largemouth bass species of fish , </sent> ,  ice gets thick in winter making this lake all year round fishing lake\n",
      "resolved_sents:  commanda lake or lake commanda is lake in central ontario canada , </sent> ,  located on border between patterson township and pringle township in almaguin highlands region of district of parry sound it is fed by gee creek commanda creek and beaudry creek and is drained by restoule river , </sent> ,  lake is shaped like number 3 </sent> ,  lake middle spur is called deep bay , </sent> ,  lake is home to one permanent island located off point in </sent> ,  lake east , </sent> ,  this is mud bottom lake and this water is tea coloured , </sent> ,  on lake shore is community of restoule but cottages line many of shore lines , </sent> ,  lots of crown land also surrounds lake shore making lake shore very peaceful lake for people of all ages to enjoy , </sent> ,  lake shore has one public boat launch towards southern end of lake shore accessible on commanda lake road , </sent> ,  lake is located at altitude of 222 m 729 ft above sea level , </sent> ,  lake is home to northern pike walleye smallmouth bass and largemouth bass species of fish , </sent> ,  ice gets thick in winter making lake shore all year round fishing lake\n",
      "numbe of sents after coref:  11\n",
      "numbe of sents before coref:  4\n",
      "sents:  brown county county code br is county located in northeast portion of us state of kansas , </sent> ,  as of 2010 census county population was 9984 , </sent> ,  its county seat and most populous city is hiawatha , </sent> ,  brown county is location of kickapoo indian reservation of kansas majority of sac and fox reservation and majority of iowa reservation of kansas and nebraska\n",
      "resolved_sents:  brown county county code br is county located in northeast portion of us state of kansas , </sent> ,  as of 2010 census county population was 9984 , </sent> ,  brown county county code br county seat and most populous city is hiawatha , </sent> ,  brown county is location of kickapoo indian reservation of kansas majority of sac and fox reservation and majority of iowa reservation of kansas and nebraska\n",
      "numbe of sents after coref:  4\n",
      "question:  brown state fishing lake is in country that has population of how many inhabitants\n",
      "question_phrases:  [('brown state fishing lake', 0.2557057227695739), ('how many inhabitant', 0.22911325789608605), ('lake', 0.17877220742195227), ('population', 0.1632550414476187), ('inhabitant', 0.1377767001477538), ('country', 0.13433749427718705)]\n",
      "common_phrases:  ['brown state fishing lake', 'population', 'lake']\n",
      "extended_phrases:  ['2010 census county population', 'brown state fishing lake', 'population', 'brown county kansas', 'lake', 'how many inhabitant', 'inhabitant', 'country']\n",
      "paras_phrases\n",
      "['fishing lake', 'lake', 'canadian province', 'lake', 'fishing lake', 'province', 'canadian', 'saskatchewan', '16 22 km', '24 km', 'foam lake saskatchewan', 'lake saskatchewan', 'town', 'wadena saskatchewan', 'highway', 'saskatchewan', 'lake', 'wadena', '5', 'effective outlet channel', 'channel', 'flooding', 'lake', 'drainage channel', '2007', 'lake', 'plan', 'saskatchewan', 'flood', 'level', 'government', 'channel', 'record flood', 'instead flood control berm', 'nation', 'fishing lake first nation', 'berm', 'plan', 'first']\n",
      "['osage state fishing lake', 'lake', 'osage state fishing lake', 'northern osage county kansas', 'osage county', 'lake', 'kansas', 'lake', 'osage state fishing lake', 'overbrook kansas', 'kansas', 'northern osage county kansas kansas', 'lakes northwest', 'northwest', 'northeast', 'freshwater manmade lake', 'lake', '1955', 'osage lake', 'osage state fishing lake', 'mostly tall grass prairie', 'numerous wooded area', 'surface area', '140 acre parkland', 'lake', '140 acre', '366 acreas', 'area', 'land', 'prairie', 'acreas', 'parkland', '366', 'osage lake', 'state', 'lake', 'kansas', 'osage lake']\n",
      "['brown state fishing lake', 'lake', 'brown state fishing lake', 'brown county kansas', 'brown state fishing lake wildlife area', 'brown county', 'lake', 'area', 'united states', 'kansas', 'protect area', 'states', '62 acre 025 km²', '62 acre 025', 'km²', 'lake', 'area', '13 foot', '8 mile 13 km', 'brown county state park', 'brown county', 'hiawatha kansas', 'park', 'hiawatha', 'area', 'kansas']\n",
      "['neosho state fishing lake', 'lake', 'neosho state fishing lake', 'lake mckinley', 'lake', 'state', 'mckinley', 'kansas', '4 mi east', 'parsons kansas usa', '40th rd', '5 mi', 'city', 'east', 'highway', '59', 'rd', 'usa', 'neosho state fishing lake', 'lake mckinley', 'lake', 'neosho', 'mckinley', 'construction', '1927', '92 acre', 'acre', 'lake', 'water', '124 public use acre', 'acre', 'lake', '124', 'picnicking', 'popular activity', 'camping', 'activity', 'fishing camping', 'shelter house fishing pier picnic table', 'barbecue grill', 'vault toilet', 'table', 'toilet', 'water hydrant', 'grill', 'hydrant', 'park', 'youth fishing pond', 'lake mckinley dam', 'age 15', 'accompany adult', 'pond', 'angler', 'dam', 'adult', 'kansas department', 'wildlife', 'department', 'kansas department wildlife', 'lake', 'park']\n",
      "['narrow hills provincial park', 'park', 'narrow hills provincial park', 'provincial park', 'saskatchewan canada', 'park', 'saskatchewan', 'canada', 'narrow hills provincial park boundary', 'narrow hills provincial park', 'recreational facility', 'series', 'park', 'variety', 'facility', 'lake', 'boundary', 'gem lake low fishing lake upper fishing lake', 'lake upper fishing lake', 'lake', 'other']\n",
      "['shawnee state fishing lake', 'lake', 'shawnee state fishing lake', 'northern shawnee county kansas', 'approximately eight mile', 'northern shawnee county', 'topeka kansas', 'kansas', 'lake', 'lake shawnee', 'lake', 'shawnee', 'east side', 'shawnee state fishing lake', 'side', 'topeka', '135 acre surface area lake', '135 acre', 'maximum depth', '25 ft', 'lake', 'shawnee state fishing lake', 'depth', '25', 'ft', 'manmade freshwater lake', 'late 1960', 'lake', '1960', 'south end', 'lake', 'end', 'dam', 'number', 'road', 'southeast corner', 'road', 'corner', 'only asphalted road', 'west side', '94th street', 'humphrey road', 'street', 'side', 'north', '94th', 'road']\n",
      "['higgins lake michigan', 'michigan', 'higgins higgins lake recreational', 'higgins lake', 'fishing lake', 'lake', 'small unincorporated community', 'us state', 'roscommon county', 'us', 'county', 'recreational', 'shore', 'state', 'southern western shore', 'community', 'michigan', 'zip code', 'post office', 'name', 'area', 'code', 'office', 'lake', '48627', 'higgins lake', 'lake hillcrest lyon manor detroit park cook corner sharps corner almeda beach oak grove ritz corner pine bluffs', 'lake hillcrest lyon manor', 'several other small community', 'almeda beach oak grove', 'higgins lake', 'lake', 'detroit park', 'cottage grove', 'grove', 'community', 'bluffs', 'code', 'locale', 'shore', 'zip code', 'postal address postal address', 'higgins lake community', 'higgins lake', 'address', 'lake', 'part', 'community', 'lyon township', 'gerrish township', 'township', 'west', 'west gerrish township', 'boundary', 'east', 'lake', 'west side', 'few mile', 'higgins lake', 'side', 'mile', 'i75', 'lake', 'east', '127', 'just few mile', 'lake', 'mile', 'south', 'higgins lake']\n",
      "['higgins lake', 'lake', 'higgins lake', 'roscommon county', 'lake', 'us state', 'large recreational fishing lake', 'us', 'county', 'state', 'michigan', 'higgins lake deep clear water', '40 km² lake', 'higgins lake', 'km² lake', '21 mi', 'shoreline', 'michigan', 'water', '10th', 'lake', 'mi', 'sylvester higgins', 'michigan geological survey', 'first chief', 'topographical department', 'higgins', 'chief', 'department', 'topographical department michigan', 'survey', 'higgins lake', 'lake', 'maximum depth', 'maximum width', '4 mi', '7 mi', 'mi', '135 ft', 'depth', 'width', 'length', '135', 'lake', 'ft', 'higgins lake', 'almost 20 billion cubic foot', '570 million m³', '570 million', 'foot', 'lake', '44 ft', 'depth', 'm³', 'ft', 'mean depth', 'water', 'time', 'year', '125 year', 'retention time', '19000 acre', 'watershed', 'acre', '77', 'lakes watershed', 'six percent', 'submerged spring', 'direct rainfall', 'incoming stream', 'percent', 'half', 'remainder', 'spring', 'rainfall', 'lake', 'water', 'stream', 'runoff', 'twinlobed lake', 'km² lake', 'lake', 'cut river', 'lake michigan', 'river', 'michigan', 'drain', 'lake huron watershed', 'lake water', 'lake huron', 'water', 'watershed', 'mile']\n",
      "['commanda lake', 'lake', 'commanda lake', 'lake commanda', 'central ontario canada', 'commanda', 'lake', 'canada', 'gee creek commanda creek', 'beaudry creek', 'pringle township', 'creek', 'patterson township', 'almaguin highlands region', 'township', 'restoule river', 'district', 'border', 'region', 'river', 'parry', 'lake middle spur', 'deep bay', 'spur', 'lake', 'number', '3', 'bay', 'one permanent island', 'one', 'island', 'home', 'lake', 'point', 'mud bottom lake', 'lake', 'water', 'shore line', 'lake shore', 'community', 'restoule', 'cottage', 'shore', 'line', 'lake shore', 'crown land', 'shore', 'land', 'people', 'age', 'lot', 'one public boat launch', 'commanda lake road', 'lake shore', 'southern end', 'one', 'launch', 'shore', 'end', 'road', 'sea level', 'altitude', '222 m 729', 'lake', 'level', 'northern pike walleye smallmouth bass', 'largemouth bass specie', 'bass', 'home', 'specie', 'fish', 'lake', 'lake shore', 'winter', 'shore', 'ice']\n",
      "['brown county kansas', 'kansas', 'brown county county code br', 'brown county county', 'northeast portion', 'us state', 'us', 'br', 'portion', 'county', 'state', 'kansas', '2010 census county population', 'population', '2010', 'brown county county', 'br county', 'brown county county code br county seat', 'most populous city', 'seat', 'city', 'hiawatha', 'kickapoo indian reservation', 'kansas majority', 'iowa reservation', 'kansas', 'kickapoo indian', 'location', 'majority', 'reservation', 'fox', 'sac fox reservation', 'iowa', 'county', 'brown county', 'nebraska']\n"
     ]
    }
   ],
   "source": [
    "if __name__ == \"__main__\":\n",
    "    main()"
   ]
  },
  {
   "cell_type": "code",
   "execution_count": 10,
   "metadata": {
    "code_folding": []
   },
   "outputs": [],
   "source": [
    "### Run all examples from the json file\n",
    "\n",
    "# with open(\"/xdisk/msurdeanu/fanluo/hotpotQA/Data/hotpot_dev_distractor_v1.json\", \"r\", encoding='utf-8') as f:  \n",
    "#     json_dict = json.load(f)\n",
    "#     for e_id, example in enumerate(json_dict):\n",
    "#         print(\"e_id: \", e_id, \"_id: \", example[\"_id\"])\n",
    "#         reduce_context_with_phares_graph(example, example[\"_id\"])  "
   ]
  },
  {
   "cell_type": "markdown",
   "metadata": {},
   "source": [
    "### Sandbox"
   ]
  },
  {
   "cell_type": "code",
   "execution_count": 11,
   "metadata": {},
   "outputs": [],
   "source": [
    "title = \"chris jones footballer born 1985\"\n",
    "sents =  ['chris is welsh semiprofessional footballer currently playing for cymru alliance side porthmadog', 'former professional with leeds united jones is currently in his fourth season with city', 'he made several appearances for leeds and was heavily involved with first team', 'chris was playing with likes of aaron lennon james milner rio ferdinand scott carson and alan smith during his spell with yorkshire outfit']"
   ]
  },
  {
   "cell_type": "code",
   "execution_count": 12,
   "metadata": {},
   "outputs": [],
   "source": [
    "context = title  + ' ' + TITLE_END + ' ' + (' ' + SENT_MARKER_END +' ').join(sents)"
   ]
  },
  {
   "cell_type": "code",
   "execution_count": 13,
   "metadata": {},
   "outputs": [],
   "source": [
    "context_doc = nlp1(context)\n",
    "title, sents = context_doc._.coref_resolved.split(TITLE_END)  \n",
    "sents = sents.split(SENT_MARKER_END)\n",
    "sent_docs = list(nlp2.pipe([title] + sents))     "
   ]
  },
  {
   "cell_type": "code",
   "execution_count": 14,
   "metadata": {},
   "outputs": [
    {
     "data": {
      "text/plain": [
       "'chris born 1985 , </t> .  chris is welsh semiprofessional footballer currently playing for cymru alliance side porthmadog , </sent> ,  former professional with leeds united jones is currently in welsh semiprofessional footballer currently playing for cymru alliance side porthmadog , </sent> ,  former professional with leeds united jones fourth season with city , </sent> ,  welsh semiprofessional footballer currently playing for cymru alliance side porthmadog , </sent> ,  former professional with leeds united jones made several appearances for leeds and was heavily involved with first team , </sent> ,  chris was playing with likes of aaron lennon james milner rio ferdinand scott carson and alan smith during welsh semiprofessional footballer currently playing for cymru alliance side porthmadog , </sent> ,  former professional with leeds united jones spell with yorkshire outfit'"
      ]
     },
     "execution_count": 14,
     "metadata": {},
     "output_type": "execute_result"
    }
   ],
   "source": [
    "context_doc._.coref_resolved"
   ]
  },
  {
   "cell_type": "code",
   "execution_count": 15,
   "metadata": {},
   "outputs": [],
   "source": [
    "context = \"brown state fishing lake , </t> .  brown state fishing lake sometimes also known as brown state fishing lake and wildlife area is protected area in brown county kansas in united states , </sent> ,  lake is 62 acres 025 km² in area and up to 13 feet 4 m deep , </sent> ,  area was formerly known as brown county state park and is 8 miles 13 km east of hiawatha kansas\"\n",
    " "
   ]
  },
  {
   "cell_type": "code",
   "execution_count": 16,
   "metadata": {},
   "outputs": [
    {
     "name": "stdout",
     "output_type": "stream",
     "text": [
      "brown state fishing lake , </t> .  brown state fishing lake sometimes also known as brown state fishing lake and wildlife area is protected area in brown county kansas in united states , </sent> ,  lake is 62 acres 025 km² in area and up brown state fishing lake and wildlife area was formerly known as brown county state park and is 8 miles 13 km east of hiawatha kansas\n",
      "[brown: [brown, brown], brown state fishing lake and wildlife area: [brown state fishing lake and wildlife area, to 13 feet 4 m deep , </sent> ,  area], brown county: [brown county, brown county], kansas: [kansas, kansas]]\n",
      "[brown state fishing lake and wildlife area, to 13 feet 4 m deep , </sent> ,  area]\n",
      "to 13 feet 4 m deep , </sent> ,  area\n",
      "brown state fishing lake and wildlife area\n"
     ]
    }
   ],
   "source": [
    "context_doc = nlp1(context)\n",
    "print(context_doc._.coref_resolved)\n",
    "print(context_doc._.coref_clusters)\n",
    "print(context_doc._.coref_clusters[1].mentions)\n",
    "print(context_doc._.coref_clusters[1].mentions[-1])\n",
    "print(context_doc._.coref_clusters[1].mentions[-1]._.coref_cluster.main)"
   ]
  },
  {
   "cell_type": "code",
   "execution_count": 17,
   "metadata": {},
   "outputs": [
    {
     "name": "stdout",
     "output_type": "stream",
     "text": [
      "fishing lake , </t> .  fishing lake is lake in canadian province of saskatchewan , </sent> ,  lake is located between highway 5 and highway 16 22 km north of town of foam lake saskatchewan and 24 km east of town of wadena saskatchewan , </sent> ,  lake does not have effective outlet channel and so is prone to flooding , </sent> ,  record floods in 2007 resulted in plan by government of saskatchewan to lower level of lake by digging drainage channel , </sent> ,  fishing lake first nation opposed this plan and instead flood control berms were constructed\n",
      "[[('fishing lake', 0.4330127018922193), ('lake', 0.3333333333333333)], [('canadian province', 0.2616585242462876), ('lake', 0.23150520948869216), ('province', 0.20142482587913918), ('canadian', 0.20142482587913918), ('saskatchewan', 0.16895618538601082), ('fishing lake', 0.13160696215647302)], [('16 22 km', 0.2026452065409755), ('24 km', 0.18671728907198992), ('foam lake saskatchewan', 0.1852953057904101), ('lake saskatchewan', 0.17641188243654315), ('town', 0.15986620374612648), ('wadena saskatchewan', 0.1532790360949015), ('highway', 0.14852107727904074), ('saskatchewan', 0.14115935081678524), ('lake', 0.13022429223122187), ('wadena', 0.08899060089286777), ('5', 0.06174419989643592)], [('effective outlet channel', 0.28864490130182774), ('channel', 0.20729837007652263), ('flooding', 0.14338069350890054), ('lake', 0.07362101738323103)], [('drainage channel', 0.15955312407485986), ('2007', 0.15075582009316005), ('lake', 0.14921263827042858), ('plan', 0.13286545807847777), ('saskatchewan', 0.13272312997276337), ('flood', 0.1325718542832199), ('level', 0.1309343194462918), ('government', 0.11205834562945201), ('channel', 0.11202550114964223), ('record flood', 0.09381493382786751)], [('instead flood control berm', 0.23286977462491573), ('nation', 0.1581121308675864), ('fishing lake first nation', 0.15305494089382374), ('berm', 0.14850302113912234), ('plan', 0.14379612951051912), ('first', 0.14317584061111682)]]\n",
      "\n",
      "\n"
     ]
    }
   ],
   "source": [
    "context = \"fishing lake , </t> .  fishing lake is lake in canadian province of saskatchewan , </sent> ,  lake is located between highway 5 and highway 16 22 km north of town of foam lake saskatchewan and 24 km east of town of wadena saskatchewan , </sent> ,  lake does not have effective outlet channel and so is prone to flooding , </sent> ,  record floods in 2007 resulted in plan by government of saskatchewan to lower level of lake by digging drainage channel , </sent> ,  fishing lake first nation opposed this plan and instead flood control berms were constructed\"\n",
    "context_resolved = nlp1(context)._.coref_resolved\n",
    "\n",
    "print(context_resolved)\n",
    "title_coref_resolved, sents_coref_resolved = context_resolved.split(TITLE_END)  \n",
    "sents_coref_resolved = sents_coref_resolved.split(SENT_MARKER_END) \n",
    "sent_docs = list(nlp2.pipe([title_coref_resolved] + sents_coref_resolved))     \n",
    "para_phrases = []                                        \n",
    "for sent_doc in sent_docs:                                    # each sent in a para\n",
    "    sent_phrases = [(p.text, p.rank) for p in sent_doc._.phrases if(p.text != '')]  # phrases from each sentence \n",
    "    para_phrases.append(sent_phrases)     \n",
    "print(para_phrases)\n",
    "print(\"\\n\")  "
   ]
  },
  {
   "cell_type": "code",
   "execution_count": 20,
   "metadata": {},
   "outputs": [
    {
     "name": "stdout",
     "output_type": "stream",
     "text": [
      "chunk:  valhalla highlands historic district\n",
      "root:  district\n",
      "chunk:  lake valhalla\n",
      "root:  valhalla\n",
      "chunk:  national historic district\n",
      "root:  district\n",
      "chunk:  cold spring\n",
      "root:  spring\n",
      "chunk:  putnam county new york\n",
      "root:  york\n"
     ]
    }
   ],
   "source": [
    "from spacy.tokens import Span\n",
    "text = 'valhalla highlands historic district also known as lake valhalla is national historic district located near cold spring in putnam county new york'\n",
    "doc = nlp2(text)\n",
    "for chunk in doc.noun_chunks:\n",
    "    print('chunk: ', chunk.text) \n",
    "    print('root: ',  chunk.root.text)\n",
    "#     span = Span(doc, chunk.root.i, chunk.root.i+1)\n",
    "#     print(span)\n",
    "#     print(span.start)"
   ]
  },
  {
   "cell_type": "code",
   "execution_count": 19,
   "metadata": {},
   "outputs": [
    {
     "name": "stdout",
     "output_type": "stream",
     "text": [
      "this list provides guide to opera composers as determined by opera composers presence on majority of compiled lists of significant opera composers , </sent> ,  see lists consulted section for full details , </sent> ,  composers run from jacopo peri who wrote first ever opera in late 16th century italy to john adams one of leading figures in contemporary operatic world , </sent> ,  brief accompanying notes offer explanation as to why each composer has been considered major , </sent> ,  also included is section about major women opera composers compiled from same lists , </sent> ,  for introduction to operatic history see opera , </sent> ,  organisation of list is by birthdate\n"
     ]
    }
   ],
   "source": [
    "context = \"this list provides guide to opera composers as determined by their presence on majority of compiled lists of significant opera composers , </sent> ,  see lists consulted section for full details , </sent> ,  composers run from jacopo peri who wrote first ever opera in late 16th century italy to john adams one of leading figures in contemporary operatic world , </sent> ,  brief accompanying notes offer explanation as to why each composer has been considered major , </sent> ,  also included is section about major women opera composers compiled from same lists , </sent> ,  for introduction to operatic history see opera , </sent> ,  organisation of list is by birthdate\"\n",
    "context_resolved = nlp1(context)._.coref_resolved\n",
    "\n",
    "print(context_resolved)\n",
    "sents_coref_resolved = context_resolved.split(SENT_MARKER_END)  "
   ]
  },
  {
   "cell_type": "code",
   "execution_count": null,
   "metadata": {},
   "outputs": [],
   "source": []
  }
 ],
 "metadata": {
  "kernelspec": {
   "display_name": "spacy",
   "language": "python",
   "name": "spacy"
  },
  "language_info": {
   "codemirror_mode": {
    "name": "ipython",
    "version": 3
   },
   "file_extension": ".py",
   "mimetype": "text/x-python",
   "name": "python",
   "nbconvert_exporter": "python",
   "pygments_lexer": "ipython3",
   "version": "3.8.5"
  },
  "toc": {
   "base_numbering": 1,
   "nav_menu": {},
   "number_sections": true,
   "sideBar": true,
   "skip_h1_title": false,
   "title_cell": "Table of Contents",
   "title_sidebar": "Contents",
   "toc_cell": false,
   "toc_position": {
    "height": "calc(100% - 180px)",
    "left": "10px",
    "top": "150px",
    "width": "165px"
   },
   "toc_section_display": true,
   "toc_window_display": true
  },
  "varInspector": {
   "cols": {
    "lenName": 16,
    "lenType": 16,
    "lenVar": 40
   },
   "kernels_config": {
    "python": {
     "delete_cmd_postfix": "",
     "delete_cmd_prefix": "del ",
     "library": "var_list.py",
     "varRefreshCmd": "print(var_dic_list())"
    },
    "r": {
     "delete_cmd_postfix": ") ",
     "delete_cmd_prefix": "rm(",
     "library": "var_list.r",
     "varRefreshCmd": "cat(var_dic_list()) "
    }
   },
   "position": {
    "height": "593px",
    "left": "1926px",
    "right": "20px",
    "top": "158px",
    "width": "612px"
   },
   "types_to_exclude": [
    "module",
    "function",
    "builtin_function_or_method",
    "instance",
    "_Feature"
   ],
   "window_display": false
  }
 },
 "nbformat": 4,
 "nbformat_minor": 4
}
